{
 "cells": [
  {
   "cell_type": "code",
   "execution_count": null,
   "id": "8ce9332f-7a72-4ac6-9de1-93b8b071f9c9",
   "metadata": {},
   "outputs": [],
   "source": [
    "import pandas as pd \n",
    "import numpy as np\n",
    "import asyncio\n",
    "from requests_html import AsyncHTMLSession\n",
    "import json\n",
    "import os"
   ]
  },
  {
   "cell_type": "code",
   "execution_count": null,
   "id": "b77606e7-833e-48b3-a9b1-6f2f553bac9f",
   "metadata": {},
   "outputs": [],
   "source": [
    "asession = AsyncHTMLSession()\n",
    "materials = []\n",
    "df = pd.read_csv('Zara_product_list.csv')\n",
    "task = df['productId']\n",
    "task"
   ]
  },
  {
   "cell_type": "code",
   "execution_count": null,
   "id": "16fc73be-4e7b-4bd5-88ec-3863c65a1cfe",
   "metadata": {
    "scrolled": true
   },
   "outputs": [],
   "source": [
    "\n",
    "async def link(val, counter = [0]):\n",
    "    counter[0] += 1\n",
    "    m = counter[0]\n",
    "    if m % 250 == 0 and m != 0:\n",
    "        print(m)\n",
    "        print(val)\n",
    "        await asyncio.sleep(1)\n",
    "    l = await asession.get(f\"https://www.zara.com/in/en/product/{val}/extra-detail?ajax=true\")\n",
    "    return l\n",
    "    \n",
    "def detail(val):\n",
    "        value = val.get('text', {}).get('value')\n",
    "        return value \n",
    "    \n",
    "for ids in task:        \n",
    "    r = await link(ids)\n",
    "    if(r.status_code == 200):            \n",
    "        json_string = r.text\n",
    "        if json_string.strip():  # Check if the content is not empty\n",
    "            try:\n",
    "                data = json.loads(json_string)\n",
    "                result_dict = {}\n",
    "                for packet in data: \n",
    "                    item = packet.get('components', [])\n",
    "                    check = packet.get(\"sectionType\")\n",
    "                    if(check == 'materials'):                    \n",
    "                        scale = len(item)\n",
    "                        first = []\n",
    "                        second = []\n",
    "                        for j in range(4,scale):\n",
    "                            text = item[j].get('datatype')\n",
    "                            if(text == 'subtitle'):                        \n",
    "                                h = detail(item[j])\n",
    "                                first.append(h)                            \n",
    "                            elif(text == 'paragraph'):\n",
    "                                b = detail(item[j])\n",
    "                                second.append(b)\n",
    "                        result_dict = dict(zip(first, second))\n",
    "                    elif(check == 'origin'):\n",
    "                        scale = len(item) - 1\n",
    "                        origin = detail(item[scale])\n",
    "                        result_dict.update({\"origins\" : origin, \"productId\" : ids})                             \n",
    "                        materials.append(result_dict)\n",
    "            except json.JSONDecodeError as e:\n",
    "                print(f\"Error decoding JSON: {e}\")\n",
    "                print(len(materials))\n",
    "        else:\n",
    "            print(\"Empty response or invalid JSON content\")\n",
    "            print(len(materials))\n",
    "    else:\n",
    "        print(f\"Request failed with status code: {r.status_code}\")\n",
    "        print(len(materials))           "
   ]
  },
  {
   "cell_type": "code",
   "execution_count": null,
   "id": "a242559d-572f-4fb3-8e7d-6087145ca96c",
   "metadata": {},
   "outputs": [],
   "source": [
    "len(materials)"
   ]
  },
  {
   "cell_type": "code",
   "execution_count": null,
   "id": "c3dd518a-598a-45e4-b9f8-5330f0eaa490",
   "metadata": {
    "scrolled": true
   },
   "outputs": [],
   "source": [
    "df = pd.DataFrame(materials)\n",
    "df"
   ]
  },
  {
   "cell_type": "code",
   "execution_count": null,
   "id": "303292f7-af9b-466f-862e-e7d649546411",
   "metadata": {},
   "outputs": [],
   "source": [
    "df.to_csv('ZaraMat.csv')"
   ]
  },
  {
   "cell_type": "code",
   "execution_count": null,
   "id": "04748453-a9bf-4687-9008-9921db156d3c",
   "metadata": {},
   "outputs": [],
   "source": []
  },
  {
   "cell_type": "code",
   "execution_count": null,
   "id": "785d455b-3e47-4fc9-8abc-6bc269857631",
   "metadata": {},
   "outputs": [],
   "source": [
    "\n",
    "# Check for columns with a single unique value\n",
    "single_value_cols = []\n",
    "for col in df.columns:\n",
    "    if df[col].nunique() == 1:\n",
    "        single_value_cols.append(col)\n",
    "\n",
    "if single_value_cols:\n",
    "    print(\"Columns with a single value:\")\n",
    "    print(single_value_cols)\n",
    "else:\n",
    "    print(\"No columns with a single value found.\")\n"
   ]
  },
  {
   "cell_type": "code",
   "execution_count": null,
   "id": "11b79a11-6168-4bc3-8115-37b47fe23e1d",
   "metadata": {
    "scrolled": true
   },
   "outputs": [],
   "source": [
    "dd.tail(30)"
   ]
  },
  {
   "cell_type": "code",
   "execution_count": null,
   "id": "7b2201c0-248a-4da4-8f3d-9a8c56e8a843",
   "metadata": {},
   "outputs": [],
   "source": []
  }
 ],
 "metadata": {
  "kernelspec": {
   "display_name": "Python 3 (ipykernel)",
   "language": "python",
   "name": "python3"
  },
  "language_info": {
   "codemirror_mode": {
    "name": "ipython",
    "version": 3
   },
   "file_extension": ".py",
   "mimetype": "text/x-python",
   "name": "python",
   "nbconvert_exporter": "python",
   "pygments_lexer": "ipython3",
   "version": "3.11.3"
  }
 },
 "nbformat": 4,
 "nbformat_minor": 5
}
